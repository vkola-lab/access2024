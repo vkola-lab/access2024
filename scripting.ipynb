{
 "cells": [
  {
   "cell_type": "code",
   "execution_count": 2,
   "metadata": {},
   "outputs": [],
   "source": [
    "from population_stats import *\n",
    "\n",
    "nacc = load_dataset_as_df(\"NACC\")\n",
    "adni = load_dataset_as_df(\"ADNI\")\n",
    "ds = stack_datasets(nacc=nacc, adni=adni)"
   ]
  },
  {
   "cell_type": "code",
   "execution_count": 3,
   "metadata": {},
   "outputs": [
    {
     "data": {
      "text/html": [
       "<div>\n",
       "<style scoped>\n",
       "    .dataframe tbody tr th:only-of-type {\n",
       "        vertical-align: middle;\n",
       "    }\n",
       "\n",
       "    .dataframe tbody tr th {\n",
       "        vertical-align: top;\n",
       "    }\n",
       "\n",
       "    .dataframe thead th {\n",
       "        text-align: right;\n",
       "    }\n",
       "</style>\n",
       "<table border=\"1\" class=\"dataframe\">\n",
       "  <thead>\n",
       "    <tr style=\"text-align: right;\">\n",
       "      <th></th>\n",
       "      <th>age</th>\n",
       "      <th>mmse</th>\n",
       "      <th>sex</th>\n",
       "      <th>apoe</th>\n",
       "      <th>educ</th>\n",
       "      <th>progress</th>\n",
       "      <th>Dataset</th>\n",
       "    </tr>\n",
       "  </thead>\n",
       "  <tbody>\n",
       "    <tr>\n",
       "      <th>0</th>\n",
       "      <td>95</td>\n",
       "      <td>27</td>\n",
       "      <td>F</td>\n",
       "      <td>0.0</td>\n",
       "      <td>12</td>\n",
       "      <td>0</td>\n",
       "      <td>nacc</td>\n",
       "    </tr>\n",
       "    <tr>\n",
       "      <th>1</th>\n",
       "      <td>77</td>\n",
       "      <td>21</td>\n",
       "      <td>M</td>\n",
       "      <td>0.0</td>\n",
       "      <td>12</td>\n",
       "      <td>1</td>\n",
       "      <td>nacc</td>\n",
       "    </tr>\n",
       "    <tr>\n",
       "      <th>2</th>\n",
       "      <td>80</td>\n",
       "      <td>28</td>\n",
       "      <td>F</td>\n",
       "      <td>0.0</td>\n",
       "      <td>18</td>\n",
       "      <td>1</td>\n",
       "      <td>nacc</td>\n",
       "    </tr>\n",
       "    <tr>\n",
       "      <th>3</th>\n",
       "      <td>38</td>\n",
       "      <td>25</td>\n",
       "      <td>F</td>\n",
       "      <td>0.0</td>\n",
       "      <td>14</td>\n",
       "      <td>1</td>\n",
       "      <td>nacc</td>\n",
       "    </tr>\n",
       "    <tr>\n",
       "      <th>4</th>\n",
       "      <td>81</td>\n",
       "      <td>29</td>\n",
       "      <td>M</td>\n",
       "      <td>0.0</td>\n",
       "      <td>12</td>\n",
       "      <td>0</td>\n",
       "      <td>nacc</td>\n",
       "    </tr>\n",
       "  </tbody>\n",
       "</table>\n",
       "</div>"
      ],
      "text/plain": [
       "  age mmse sex apoe educ progress Dataset\n",
       "0  95   27   F  0.0   12        0    nacc\n",
       "1  77   21   M  0.0   12        1    nacc\n",
       "2  80   28   F  0.0   18        1    nacc\n",
       "3  38   25   F  0.0   14        1    nacc\n",
       "4  81   29   M  0.0   12        0    nacc"
      ]
     },
     "execution_count": 3,
     "metadata": {},
     "output_type": "execute_result"
    }
   ],
   "source": [
    "ds.head()"
   ]
  },
  {
   "cell_type": "code",
   "execution_count": 5,
   "metadata": {},
   "outputs": [],
   "source": [
    "ds.to_parquet(\"csvs/demographics.parquet\")"
   ]
  },
  {
   "cell_type": "code",
   "execution_count": 4,
   "metadata": {},
   "outputs": [],
   "source": [
    "apoe = ds[[\"apoe\",\"progress\",\"Dataset\"]]\n",
    "sex = ds[[\"sex\", \"progress\", \"Dataset\"]]\n",
    "\n",
    "educ = ds[[\"educ\", \"progress\", \"Dataset\"]]\n",
    "age = ds[[\"age\", \"progress\", \"Dataset\"]]\n",
    "mmse = ds[[\"mmse\", \"progress\", \"Dataset\"]]\n",
    "\n",
    "\n",
    "with open(\"csvs/statistics.txt\", \"w\") as fi:\n",
    "    for x in (0,1):\n",
    "        fi.write(\"=\"*50 + \"\\n\")\n",
    "        fi.write(f\"Progress == {x}\\n\\n\")\n",
    "        apoe_progress = apoe.query(\"progress == @x\").copy()\n",
    "        apoe_progress = apoe_progress.drop(apoe_progress.loc[apoe_progress[\"apoe\"] == \"\"].index)\n",
    "        ct = pd.crosstab(apoe_progress[\"Dataset\"], apoe_progress[\"apoe\"], margins=True)\n",
    "        cs = ChiSquare(ct)\n",
    "        fi.write(str(cs))\n",
    "\n",
    "        sex_progress = sex.query(\"progress == @x\").copy()\n",
    "        sex_progress = sex_progress.drop(sex_progress.loc[sex_progress[\"sex\"] == \"\"].index)\n",
    "        ct = pd.crosstab(sex_progress[\"Dataset\"], sex_progress[\"sex\"], margins=True)\n",
    "        cs = ChiSquare(ct)\n",
    "        fi.write(str(cs))\n",
    "\n",
    "        for col in (\"educ\", \"age\", \"mmse\"):\n",
    "            sub_df = ds[[col, \"progress\", \"Dataset\"]]\n",
    "            sub_df_progress = sub_df.query(\"progress == @x\").copy()\n",
    "            mwu = MannWhitneyU(\n",
    "                sub_df.query(\"Dataset == \\\"nacc\\\"\")[col].astype(\"float\").to_numpy(),\n",
    "                sub_df.query(\"Dataset == \\\"adni\\\"\")[col].astype(\"float\").to_numpy(),\n",
    "                \"nacc\",\n",
    "                \"adni\"\n",
    "                )\n",
    "            fi.write(f\"{col.upper()}\\n\\n\")\n",
    "            fi.write(str(mwu))"
   ]
  }
 ],
 "metadata": {
  "kernelspec": {
   "display_name": "rcgan-env",
   "language": "python",
   "name": "python3"
  },
  "language_info": {
   "codemirror_mode": {
    "name": "ipython",
    "version": 3
   },
   "file_extension": ".py",
   "mimetype": "text/x-python",
   "name": "python",
   "nbconvert_exporter": "python",
   "pygments_lexer": "ipython3",
   "version": "3.8.3"
  },
  "orig_nbformat": 4
 },
 "nbformat": 4,
 "nbformat_minor": 2
}
